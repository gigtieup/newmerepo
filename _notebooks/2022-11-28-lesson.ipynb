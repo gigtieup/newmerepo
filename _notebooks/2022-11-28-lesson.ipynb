{
 "cells": [
  {
   "cell_type": "markdown",
   "metadata": {},
   "source": [
    "# Unit 3.17-3.18 Group Lesson Period 4\n",
    "> Jupyter Notebook for the rest of the class to follow along with.\n",
    "\n",
    "- title: Unit 3.17-3.18 Group Lesson Period 4\n",
    "- toc: true\n",
    "- badges: true\n",
    "- comments: true\n",
    "\n",
    "# Unit 3, Section 18: Undecidable Problems - Quinn"
   ]
  },
  {
   "cell_type": "code",
   "execution_count": null,
   "metadata": {},
   "outputs": [],
   "source": [
    "def collatz(i):\n",
    "    while i > 1:\n",
    "        print(i, end=' ')\n",
    "        if (i % 2):\n",
    "            # i is odd\n",
    "            i = 3*i + 1\n",
    "        else:\n",
    "            # i is even\n",
    "            i = i//2\n",
    "    print(1, end='')\n",
    " \n",
    " \n",
    "i = int(input('Enter i: '))\n",
    "print('Sequence: ', end='')\n",
    "collatz(i)"
   ]
  },
  {
   "cell_type": "code",
   "execution_count": null,
   "metadata": {},
   "outputs": [],
   "source": [
    "def collatz(i):\n",
    "    while i != 1:\n",
    "        if i % 2 > 0:\n",
    "             i =((3 * i) + 1)\n",
    "             list_.append(i)\n",
    "        else:\n",
    "            i = (i / 2)\n",
    "            list_.append(i)\n",
    "    return list_\n",
    "\n",
    "\n",
    "print('Please enter a number: ', end='')\n",
    "while True:\n",
    "    try:\n",
    "        i = int(input())\n",
    "        list_ = [i]\n",
    "        break\n",
    "    except ValueError:\n",
    "        print('Invaid selection, try again: ', end='')\n",
    "\n",
    "\n",
    "l = collatz(i)\n",
    "\n",
    "print('')\n",
    "print('Number of iterations:', len(l) - 1)"
   ]
  },
  {
   "cell_type": "markdown",
   "metadata": {},
   "source": [
    "# Unit 3, Section 17: Algorithm Efficiency - Kush\n",
    "## What is Algorithm Efficiency?\n",
    "\n",
    "Algorithmic efficiency is an aspect of algorithmic programming that measures the number of steps needed to solve a problem. For instance, If I wanted to create a sorting algorithm that sorts numbers the numbers [2,4,5,1,3]from least to greatest, rather than having an algorithm that compares itself to the next number and swaps accordingly it would be more efficient if you had a program that scans through all the numbers and checks whether a number is smaller or bigger than the rest than and sorts accordingly. Both of the algorithms had the same objective, but one runs more efficiently than the other. \n",
    "\n",
    "## How do we know if an algorithm is efficient or not?\n",
    "\n",
    "In the last slide, we were talking about a sorting algorithm and we discussed two ways that we could sort the numbers in the order from least to greatest. The reason the second one ran faster than the first one is because scanning all of them is quicker than scanning one by one. An algorithm’s efficiency is determined through formal or mathematical reasoning. My reasoning was more formal than mathematical. \n",
    "\n",
    "## How can you use algorithms to better your life: Mini activity\n",
    "\n",
    "Just for a second, think about all the tasks in your life that would work so much better automated. The sky's the limit. For an activity, write down or take a mental note of a task that you encounter in your day to day life, and think of ways where you can automate that task. An example of this would be me creating an algorithm for my math homework. \n",
    "\n",
    "## Coding the algorithm In Python\n",
    "> ### Creating a calculator in Python\n",
    "\n",
    "- It can add, subtract, multiply, divide\n",
    "- Once you do your operation, there should be a option to do it again\n",
    "\n",
    "## Taking a heuristic approach to problems P1\n",
    "\n",
    "Sometimes when a problem has too many possibilities, a heuristic approach would be taken. let's use planes as an example. Imagine you were a musician on tour. You have shows in New Zealand, United States, Canada, and Russia. Well, what would be the shortest flight route so you can arrive at those destinations as fast as possible? You start in the United States.\n",
    "\n",
    "## Taking a heuristic approach to problems P2\n",
    "\n",
    "Well, since there are multiple possibilities, I chose to pick the countries closest to each other. The reason I chose this algorithm in particular is that it made the most sense. I had to start at United States, but then I went on to Canada, Russia, New Zealand, and then back to the United States.\n",
    "\n",
    "## Hacks/assignment\n",
    "\n",
    "- Write 2 algorithms to sort a list of numbers from greatest to least. Detail exactly what your algorithm does in your fastpages. No coding in this step\n",
    "- Explain why one algorithm is more efficient than another using mathematical and/or formal reasoning\n",
    "- use variables, if statements, and loops to program your algorithm and upload to jupyter notebooks/ fastpages\n",
    "\n",
    "\n"
   ]
  }
 ],
 "metadata": {
  "language_info": {
   "name": "python"
  },
  "orig_nbformat": 4
 },
 "nbformat": 4,
 "nbformat_minor": 2
}
