{
 "cells": [
  {
   "attachments": {},
   "cell_type": "markdown",
   "metadata": {},
   "source": [
    "# 5.3 - 5.4 \n",
    "\n",
    "- toc: true \n",
    "- badges: true\n",
    "- comments: true\n",
    "- categories: [markdown, ]"
   ]
  },
  {
   "attachments": {},
   "cell_type": "markdown",
   "metadata": {},
   "source": [
    "***\n",
    "***\n",
    "***"
   ]
  },
  {
   "attachments": {},
   "cell_type": "markdown",
   "metadata": {},
   "source": [
    "# **Big Idea 5.3 Computing Bias**\n",
    "\n",
    "> Computing bias refers to the systematic error or unfairness introduced into machine learning algorithms and artificial intelligence systems due to the presence of biased data, algorithms, or human decision making. This can result in discriminatory outcomes, such as denying certain individuals access to opportunities or services based on race, gender, or other protected characteristics. It is an important issue in the development and deployment of AI and machine learning, and addressing it requires careful attention to data quality, algorithmic design, and fair decision making practices."
   ]
  },
  {
   "attachments": {},
   "cell_type": "markdown",
   "metadata": {},
   "source": [
    "***"
   ]
  },
  {
   "attachments": {},
   "cell_type": "markdown",
   "metadata": {},
   "source": [
    "### **What age groups use Facebook” vs “… TikTok”?**\n",
    "##### **Facebook 21-70**\n",
    "##### **TikTok 7-21**\n",
    "\n",
    "> Older people tend to use facebook because it was the TikTok of their generation and it's marketed towards an older audience while TikTok is marketed towards an younger audience. Facebook also offers a simple interface while tiktok can be harder to navigate at times and while as of recently tik tok is able to share photos its main use is sharing videos unlike facebook."
   ]
  },
  {
   "attachments": {},
   "cell_type": "markdown",
   "metadata": {},
   "source": [
    "***"
   ]
  },
  {
   "attachments": {},
   "cell_type": "markdown",
   "metadata": {},
   "source": [
    "### **Why do virtual assistants have female voices?** \n",
    "\n",
    "> Females tend to have more soothing and almost entrancing voices which makes for more soothing and enjoyable products.  "
   ]
  },
  {
   "attachments": {},
   "cell_type": "markdown",
   "metadata": {},
   "source": [
    "***"
   ]
  },
  {
   "attachments": {},
   "cell_type": "markdown",
   "metadata": {},
   "source": [
    "### **Talk about an algorithm that influences your decisions, think about these companies (ie FAANG - Facebook, Amazon, Apple,Netflix, Google)**\n",
    "\n",
    "> Products are made to record your past decisions and choices whether that be a movie you watched or a thing you searched for and the give you future suggestions braces of the recorded information. This is helpful but is actually implemented to make you stay on the website or app for a longer period of time and if engineered in the correct way has the potential to be harmful. "
   ]
  },
  {
   "attachments": {},
   "cell_type": "markdown",
   "metadata": {},
   "source": [
    "***"
   ]
  },
  {
   "attachments": {},
   "cell_type": "markdown",
   "metadata": {},
   "source": [
    "### **Come up with some thoughts on the [video](https://www.youtube.com/watch?v=t4DT3tQqgRM)** \n",
    "\n",
    "> Although he acts almost offended, the video seems to be made in a good nature and a joking manner, so no, he does not believe the product was made to purposefully discriminate. I believe this happened due to non intentional testing limitations and design flaws. Although accidental, the product could potentially be harmful by advertising as a “human face tracker” and not considering a darker skin tone as a human face."
   ]
  },
  {
   "attachments": {},
   "cell_type": "markdown",
   "metadata": {},
   "source": [
    "***\n",
    "***\n",
    "***"
   ]
  },
  {
   "attachments": {},
   "cell_type": "markdown",
   "metadata": {},
   "source": [
    "# **Big Idea 5.4 Crowdsourcing**\n",
    "\n",
    "> Crowdsourcing is the practice of obtaining services, ideas, or content by enlisting the services of a large number of people, either paid or unpaid, typically via the internet. It involves outsourcing tasks to a large, undefined group of people, rather than to a specific individual or organization. Crowdsourcing is used in a variety of fields, including marketing, design, product development, and problem-solving, to tap into the collective intelligence and expertise of the crowd. The goal of crowdsourcing is to harness the power of many people to accomplish tasks that would be difficult or impossible for an individual or small group to complete."
   ]
  },
  {
   "attachments": {},
   "cell_type": "markdown",
   "metadata": {},
   "source": [
    "***"
   ]
  },
  {
   "attachments": {},
   "cell_type": "markdown",
   "metadata": {},
   "source": [
    "## **Obtaining Data via Crowdsourcing**\n",
    "\n",
    "> Crowdsourcing is the practice of gathering information or services from a large group of people, often via the internet, for a specific purpose. It enables organizations to quickly and cost-effectively gather large amounts of data.\n",
    "\n",
    "#### **Advantages of Crowdsourcing:**\n",
    "\n",
    "- Large and diverse pool of contributors\n",
    "- Can be cost-effective compared to traditional data collection methods\n",
    "- Allows for real-time data collection\n",
    "- Can reach hard-to-access populations or locations\n",
    "\n",
    "#### **Disadvantages of Crowdsourcing:**\n",
    "\n",
    "- Quality control issues, as data may not be validated\n",
    "- Bias in responses, as individuals may have their own biases\n",
    "- Lack of incentive for contributors to provide accurate data\n",
    "\n",
    "#### **Popular platforms for Crowdsourcing data:**\n",
    "\n",
    "- Amazon Mechanical Turk\n",
    "- CrowdFlower\n",
    "- Upwork"
   ]
  },
  {
   "attachments": {},
   "cell_type": "markdown",
   "metadata": {},
   "source": [
    "***"
   ]
  },
  {
   "attachments": {},
   "cell_type": "markdown",
   "metadata": {},
   "source": [
    "## **Evidence of Crowdsourcing**\n",
    "\n",
    "> Crowdsourcing refers to the act of obtaining services or ideas from a large group of people, especially from the online community. There is a lot of evidence to support the use of crowdsourcing as a way to obtain valuable input and resources from a diverse group of individuals. Some of the most common types of evidence for crowdsourcing include:\n",
    "\n",
    "- **Increased Innovation:** Crowdsourcing often results in a large number of ideas being generated, many of which may be outside the box and not considered by traditional methods. This leads to increased innovation.\n",
    "\n",
    "- **Cost Savings:** Crowdsourcing can often be less expensive than traditional methods of gathering information or ideas. This is because the costs are spread among a large number of individuals, rather than being borne by a single entity.\n",
    "\n",
    "- **Increased Speed:** Crowdsourcing can often be faster than traditional methods of gathering information or ideas. This is because the process can be done in parallel, with many individuals working on different aspects of the problem at the same time.\n",
    "\n",
    "- **Improved Quality:** Crowdsourcing can result in improved quality, as a large number of individuals can review and provide feedback on the ideas generated. This leads to a more robust and well-vetted solution.\n",
    "\n",
    "- **Wider Reach:** Crowdsourcing enables organizations to reach a wider audience than they would be able to through traditional methods. This can result in a more diverse set of ideas and perspectives being gathered."
   ]
  },
  {
   "attachments": {},
   "cell_type": "markdown",
   "metadata": {},
   "source": [
    "***"
   ]
  }
 ],
 "metadata": {
  "language_info": {
   "name": "python"
  },
  "orig_nbformat": 4
 },
 "nbformat": 4,
 "nbformat_minor": 2
}
