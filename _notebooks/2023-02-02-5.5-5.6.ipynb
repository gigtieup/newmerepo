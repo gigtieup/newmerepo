{
 "cells": [
  {
   "attachments": {},
   "cell_type": "markdown",
   "metadata": {},
   "source": [
    "# **5.5 - 5.6**\n",
    "\n",
    "- toc: true \n",
    "- badges: true\n",
    "- comments: true\n",
    "- categories: [markdown, ]"
   ]
  },
  {
   "attachments": {},
   "cell_type": "markdown",
   "metadata": {},
   "source": [
    "***\n",
    "***\n",
    "***\n",
    "# **Big Idea 5.6 Safe Computing**\n",
    "> Safe Computing refers to the practice of using computers and technology in a secure and responsible manner to protect against potential threats such as malware, cyber attacks, data breaches, and other security risks. This involves implementing security measures such as firewalls, antivirus software, strong passwords, regular software updates, and more to ensure the safety and privacy of user data and systems. Safe Computing also involves being aware of potential dangers and using technology in a way that follows safe and ethical practices.\n",
    "***\n",
    "### **What are your feelings about PII and your exposure?**\n",
    "\n",
    "PII can be used by malicious individuals to carry out various forms of identity theft and fraud. PII typically includes information such as a person's name, date of birth, social security number, address, and financial information. If this information falls into the wrong hands, it can be used to open bank accounts, apply for loans, make unauthorized purchases, and more, causing significant harm to an individual's financial and personal reputation. It is dangerous and should be prtected at all costs.\n",
    "***\n",
    "### **Describe good and bad passwords? What is another step that is used to assist in authentication.**\n",
    "Good passwords are long, complex, and unique, using a combination of uppercase and lowercase letters, numbers, and special characters. They are also not easily guessable or based on personal information that can be easily obtained.\n",
    "\n",
    "Bad passwords are short, simple, commonly used words or numbers (such as \"123456\" or \"password\"), or personal information that can be easily obtained (such as birthdays or names).\n",
    "\n",
    "Another step used to assist in authentication is two-factor authentication (2FA), which requires a user to provide two forms of identification, typically a password and a secondary authentication method such as a code sent to a mobile device. This adds an extra layer of security to the login process and helps prevent unauthorized access to accounts.\n",
    "***\n",
    "### **Try to describe Symmetric and Asymmetric encryption.**\n",
    "\n",
    "> **Symmetric Encryption** is a method of encryption where the same key is used for both encryption and decryption of data. In other words, the sender and receiver of the message both have access to the same secret key, w20hich is used to encrypt the message before it is transmitted, and then decrypted at the other end. Symmetric encryption is fast and efficient, but the security of the encrypted data is only as strong as the secrecy of the key. If the key is intercepted or otherwise obtained by an attacker, they would be able to read the encrypted messages.\n",
    "\n",
    "> **Asymmetric Encryption**, also known as public-key encryption, uses a pair of keys for encryption and decryption. One key, known as the public key, is used to encrypt the data, and the other key, known as the private key, is used to decrypt the data. The public key is freely distributed and can be used by anyone to encrypt a message, but only the holder of the private key can decrypt the message. This provides a higher level of security, as the private key does not have to be shared with anyone, and can be kept secure. Asymmetric encryption is commonly used for secure communication and digital signatures.\n",
    "***\n",
    "### **Describe a phishing scheme you have learned about the hard way. Describe some other phishing techniques.**\n",
    "\n",
    "> Phishing is a social engineering attack that uses deception to steal sensitive information, often by posing as a trustworthy source through email, phone, or message. It aims to gain unauthorized access, steal identity, or use personal information maliciously. Phishing can be difficult to detect as attackers often make their messages appear legitimate.\n",
    "\n",
    "- **Fake Login Page** - A fake login page is created that looks like a legitimate one, tricking the user into entering their login credentials, which are then stolen by the attacker.\n",
    "\n",
    "- **Email Phishing** - A phishing email is sent, disguised as a legitimate message from a trusted source, such as a bank or well-known company, asking the recipient to click on a link and enter their personal information.\n",
    "\n",
    "- **SMS Phishing (Smishing)** - Similar to email phishing, but using text messages.\n",
    "\n",
    "- **Deceptive pop-up ads** - Phishing attackers use deceptive pop-up ads to trick victims into downloading malware or giving up personal information.\n",
    "\n",
    "- **Malicious attachments** - Phishing emails often contain malicious attachments that, when opened, install malware or steal personal information."
   ]
  }
 ],
 "metadata": {
  "language_info": {
   "name": "python"
  },
  "orig_nbformat": 4
 },
 "nbformat": 4,
 "nbformat_minor": 2
}
