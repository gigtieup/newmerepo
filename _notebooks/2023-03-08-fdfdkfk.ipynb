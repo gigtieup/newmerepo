{
 "cells": [
  {
   "attachments": {},
   "cell_type": "markdown",
   "metadata": {},
   "source": [
    "# **2.2 - 2.3**"
   ]
  },
  {
   "attachments": {},
   "cell_type": "markdown",
   "metadata": {},
   "source": [
    "***\n",
    "***\n",
    "***\n",
    "# **Unit 2.2 Data Compression, Images**\n",
    "> Data compression is the process of encoding information in a way that reduces the amount of storage space or bandwidth required to represent it. In other words, it is the technique of reducing the size of data without losing any of its original information. The primary goal of data compression is to store or transmit data in a more efficient manner, thereby reducing costs and improving performance.\n",
    "***\n",
    "***\n",
    "# **Displaying images in Python Jupyter notebook**\n",
    "***\n",
    "### **Notes for the program provided**"
   ]
  },
  {
   "attachments": {},
   "cell_type": "markdown",
   "metadata": {},
   "source": [
    "1. First, the necessary modules are imported:"
   ]
  },
  {
   "cell_type": "code",
   "execution_count": null,
   "metadata": {},
   "outputs": [],
   "source": [
    "from IPython.display import Image, display\n",
    "from pathlib import Path\n"
   ]
  },
  {
   "attachments": {},
   "cell_type": "markdown",
   "metadata": {},
   "source": [
    "2. The image_data() function is defined. It takes two parameters:\n",
    "\n",
    "* path: a Path object representing the directory containing the images (default is \"images/\")\n",
    "* images: a list of dictionaries with image details (default is None)"
   ]
  },
  {
   "cell_type": "code",
   "execution_count": null,
   "metadata": {},
   "outputs": [],
   "source": [
    "def image_data(path=Path(\"images/\"), images=None):\n"
   ]
  },
  {
   "attachments": {},
   "cell_type": "markdown",
   "metadata": {},
   "source": [
    "3. If the images parameter is None, the function uses default images:"
   ]
  },
  {
   "cell_type": "code",
   "execution_count": null,
   "metadata": {},
   "outputs": [],
   "source": [
    "if images is None:\n",
    "    images = [\n",
    "        {'source': \"Peter Carolin\", 'label': \"Clouds Impression\", 'file': \"clouds-impression.png\"},\n",
    "        {'source': \"Peter Carolin\", 'label': \"Lassen Volcano\", 'file': \"lassen-volcano.jpg\"}\n",
    "    ]\n"
   ]
  },
  {
   "attachments": {},
   "cell_type": "markdown",
   "metadata": {},
   "source": [
    "4. For each image in the images list, the function adds the file path to the dictionary with the key filename by concatenating path and the file key value:"
   ]
  },
  {
   "cell_type": "code",
   "execution_count": null,
   "metadata": {},
   "outputs": [],
   "source": [
    "for image in images:\n",
    "    image['filename'] = path / image['file']\n"
   ]
  },
  {
   "attachments": {},
   "cell_type": "markdown",
   "metadata": {},
   "source": [
    "5. The updated list of dictionaries is returned:"
   ]
  },
  {
   "cell_type": "code",
   "execution_count": null,
   "metadata": {},
   "outputs": [],
   "source": [
    "return images\n"
   ]
  },
  {
   "attachments": {},
   "cell_type": "markdown",
   "metadata": {},
   "source": [
    "6. The image_display() function is defined. It takes one parameter:\n",
    "\n",
    "* images: a list of dictionaries with image details"
   ]
  },
  {
   "cell_type": "code",
   "execution_count": null,
   "metadata": {},
   "outputs": [],
   "source": [
    "def image_display(images):\n"
   ]
  },
  {
   "attachments": {},
   "cell_type": "markdown",
   "metadata": {},
   "source": [
    "7. For each image in the images list, the function displays the image using the display() function from the IPython.display module:"
   ]
  },
  {
   "cell_type": "code",
   "execution_count": null,
   "metadata": {},
   "outputs": [],
   "source": [
    "for image in images:\n",
    "    display(Image(filename=image['filename']))\n"
   ]
  },
  {
   "attachments": {},
   "cell_type": "markdown",
   "metadata": {},
   "source": [
    "8. In the main block, the image_data() function is called with a custom image:"
   ]
  },
  {
   "cell_type": "code",
   "execution_count": null,
   "metadata": {},
   "outputs": [],
   "source": [
    "green_square = image_data(images=[{'source': \"Internet\", 'label': \"Green Square\", 'file': \"green-square-16.png\"}])\n"
   ]
  },
  {
   "attachments": {},
   "cell_type": "markdown",
   "metadata": {},
   "source": [
    "9. The result is passed to the image_display() function to display the image:"
   ]
  },
  {
   "cell_type": "code",
   "execution_count": null,
   "metadata": {},
   "outputs": [],
   "source": [
    "image_display(green_square)\n"
   ]
  },
  {
   "attachments": {},
   "cell_type": "markdown",
   "metadata": {},
   "source": [
    "10. Then, the image_data() function is called again without any parameters to use the default images:"
   ]
  },
  {
   "cell_type": "code",
   "execution_count": null,
   "metadata": {},
   "outputs": [],
   "source": [
    "default_images = image_data()\n"
   ]
  },
  {
   "attachments": {},
   "cell_type": "markdown",
   "metadata": {},
   "source": [
    "11. The result is passed to the image_display() function to display the images:"
   ]
  },
  {
   "cell_type": "code",
   "execution_count": null,
   "metadata": {},
   "outputs": [],
   "source": [
    "image_display(default_images)\n"
   ]
  },
  {
   "attachments": {},
   "cell_type": "markdown",
   "metadata": {},
   "source": [
    "Overall, the code defines two functions: image_data() and image_display(). The image_data() function prepares a list of image details, including file paths. The image_display() function takes a list of image details and displays each image using the IPython.display.Image module. Finally, in the main block, these functions are called with custom and default image details, and the resulting images are displayed using the image_display() function."
   ]
  },
  {
   "attachments": {},
   "cell_type": "markdown",
   "metadata": {},
   "source": [
    "\n",
    "\n",
    "***\n",
    "***\n",
    "# **Data Structures, Imperative Programming Style, and working with Images**\n",
    "***\n",
    "### **Notes for the program provided**\n"
   ]
  },
  {
   "attachments": {},
   "cell_type": "markdown",
   "metadata": {},
   "source": [
    "1. The script imports necessary libraries for displaying images and working with file paths."
   ]
  },
  {
   "cell_type": "code",
   "execution_count": null,
   "metadata": {},
   "outputs": [],
   "source": [
    "from IPython.display import Image, display\n",
    "from pathlib import Path"
   ]
  },
  {
   "attachments": {},
   "cell_type": "markdown",
   "metadata": {},
   "source": [
    "2. The script defines a function called image_data() which prepares a series of images for display. It takes in two arguments: path (the path to the folder containing the images) and images (a list of dictionaries representing the image data). If no images are specified, it defaults to two images of clouds and a volcano. It then adds the file path to each image dictionary and returns the list of image data."
   ]
  },
  {
   "cell_type": "code",
   "execution_count": null,
   "metadata": {},
   "outputs": [],
   "source": [
    "def image_data(path=Path(\"images/\"), images=None):\n",
    "    # If no images are specified, use default images\n",
    "    if images is None:\n",
    "        images = [\n",
    "            {'source': \"Peter Carolin\", 'label': \"Clouds Impression\", 'file': \"clouds-impression.png\"},\n",
    "            {'source': \"Peter Carolin\", 'label': \"Lassen Volcano\", 'file': \"lassen-volcano.jpg\"}\n",
    "        ]\n",
    "    # Add file path to each image dictionary\n",
    "    for image in images:\n",
    "        image['filename'] = path / image['file']\n",
    "    return images"
   ]
  },
  {
   "attachments": {},
   "cell_type": "markdown",
   "metadata": {},
   "source": [
    "3. The script defines a function called image_display() which displays a series of images. It takes in a list of dictionaries representing the image data and uses the IPython.display module to display each image in the list."
   ]
  },
  {
   "cell_type": "code",
   "execution_count": null,
   "metadata": {},
   "outputs": [],
   "source": [
    "def image_display(images):\n",
    "    for image in images:\n",
    "        display(Image(filename=image['filename']))\n"
   ]
  },
  {
   "attachments": {},
   "cell_type": "markdown",
   "metadata": {},
   "source": [
    "4. The script checks if the script is being run as the main program (i.e. not being imported as a module). If it is, it tests the image_display() function by displaying a custom image of a green square, and then displays the default images returned by image_data()."
   ]
  },
  {
   "cell_type": "code",
   "execution_count": null,
   "metadata": {},
   "outputs": [],
   "source": [
    "if __name__ == \"__main__\":\n",
    "    # Test image display with custom image\n",
    "    green_square = image_data(images=[{'source': \"Internet\", 'label': \"Green Square\", 'file': \"green-square-16.png\"}])\n",
    "    image_display(green_square)\n",
    "    \n",
    "    # Display default images\n",
    "    default_images = image_data()\n",
    "    image_display(default_images)"
   ]
  },
  {
   "attachments": {},
   "cell_type": "markdown",
   "metadata": {},
   "source": [
    "Overall, this script defines two functions for preparing and displaying images, and then tests them by displaying some example images.\n",
    "\n",
    "***\n",
    "***\n",
    "# **Data Structures and OOP**\n",
    "***\n",
    "### **Notes for the program provided**"
   ]
  },
  {
   "attachments": {},
   "cell_type": "markdown",
   "metadata": {},
   "source": [
    "1. Import necessary modules:"
   ]
  },
  {
   "cell_type": "code",
   "execution_count": null,
   "metadata": {},
   "outputs": [],
   "source": [
    "from IPython.display import HTML, display\n",
    "from pathlib import Path\n",
    "from PIL import Image as pilImage\n",
    "from io import BytesIO\n",
    "import base64\n",
    "import numpy as np"
   ]
  },
  {
   "attachments": {},
   "cell_type": "markdown",
   "metadata": {},
   "source": [
    "2. Define a class Image_Data that represents an image object. The __init__ method of the class takes in the source of the image, its label, file name, path, and an optional baseWidth parameter (which defaults to 320). It then opens the image using Pillow (a fork of the Python Imaging Library - PIL) and scales it down to a width of baseWidth (keeping the aspect ratio same). It also creates two HTML representations of the image - one in color and the other in grayscale."
   ]
  },
  {
   "cell_type": "code",
   "execution_count": null,
   "metadata": {},
   "outputs": [],
   "source": [
    "class Image_Data:\n",
    "    def __init__(self, source, label, file, path, baseWidth=320):\n",
    "        self._source = source    \n",
    "        self._label = label\n",
    "        self._file = file\n",
    "        self._filename = path / file  \n",
    "        self._baseWidth = baseWidth\n",
    "\n",
    "        # Open image and scale to needs\n",
    "        self._img = pilImage.open(self._filename)\n",
    "        self._format = self._img.format\n",
    "        self._mode = self._img.mode\n",
    "        self._originalSize = self.img.size\n",
    "        self.scale_image()\n",
    "        self._html = self.image_to_html(self._img)\n",
    "        self._html_grey = self.image_to_html_grey()\n",
    "\n",
    "    # ... getter methods and other helper methods ..."
   ]
  },
  {
   "attachments": {},
   "cell_type": "markdown",
   "metadata": {},
   "source": [
    "3. Define a function image_data that returns a list of image metadata (source, label, and file name) and a default path for the image files."
   ]
  },
  {
   "cell_type": "code",
   "execution_count": null,
   "metadata": {},
   "outputs": [],
   "source": [
    "def image_data(path=Path(\"images/\"), images=None): \n",
    "    if images is None:  \n",
    "        images = [\n",
    "            {'source': \"Internet\", 'label': \"Green Square\", 'file': \"green-square-16.png\"},\n",
    "            {'source': \"Peter Carolin\", 'label': \"Clouds Impression\", 'file': \"clouds-impression.png\"},\n",
    "            {'source': \"Peter Carolin\", 'label': \"Lassen Volcano\", 'file': \"lassen-volcano.jpg\"}\n",
    "        ]\n",
    "    return path, images"
   ]
  },
  {
   "attachments": {},
   "cell_type": "markdown",
   "metadata": {},
   "source": [
    "4. Define a function image_objects that creates a list of Image_Data objects by calling the Image_Data constructor with metadata obtained from image_data."
   ]
  },
  {
   "cell_type": "code",
   "execution_count": null,
   "metadata": {},
   "outputs": [],
   "source": [
    "def image_objects():        \n",
    "    id_Objects = []\n",
    "    path, images = image_data()\n",
    "    for image in images:\n",
    "        id_Objects.append(Image_Data(source=image['source'], \n",
    "                                  label=image['label'],\n",
    "                                  file=image['file'],\n",
    "                                  path=path,\n",
    "                                  ))\n",
    "    return id_Objects"
   ]
  },
  {
   "attachments": {},
   "cell_type": "markdown",
   "metadata": {},
   "source": [
    "5. In the __main__ block, call image_objects to get a list of Image_Data objects. For each object, print out its metadata, display its color and grayscale HTML representations using IPython.display, and print a blank line to separate the output."
   ]
  },
  {
   "cell_type": "code",
   "execution_count": null,
   "metadata": {},
   "outputs": [],
   "source": [
    "if __name__ == \"__main__\":\n",
    "    for ido in image_objects(): \n",
    "        \n",
    "        # print metadata\n",
    "        print(\"---- meta data -----\")\n",
    "        print(ido.label)\n",
    "        print(ido.source)\n",
    "        print(ido.file)\n",
    "        print(ido.format)\n",
    "        print(ido.mode)\n",
    "        print(\"Original size: \", ido.originalSize)\n",
    "        print(\"Scaled size: \", ido.size)\n",
    "        \n",
    "        # display color image\n",
    "        print(\"-- scaled image --\")\n",
    "        display(HTML(ido.html))\n",
    "        \n",
    "        # display grayscale image"
   ]
  },
  {
   "cell_type": "code",
   "execution_count": null,
   "metadata": {
    "vscode": {
     "languageId": "html"
    }
   },
   "outputs": [],
   "source": [
    "<!DOCTYPE html>\n",
    "<html>\n",
    "<head>\n",
    "<meta name=\"viewport\" content=\"width=device-width, initial-scale=1\">\n",
    "<style>\n",
    "img {\n",
    "  -webkit-filter: grayscale(100%); /* Safari 6.0 - 9.0 */\n",
    "  filter: grayscale(100%);\n",
    "}\n",
    "</style>\n",
    "</head>\n",
    "<body>\n",
    "\n",
    "<img src=\"https://th.bing.com/th?id=OIP.laxVLeCC4UiyfSQC3nMDbgHaKe&w=210&h=297&c=8&rs=1&qlt=90&o=6&dpr=1.5&pid=3.1&rm=2\" alt=\"Pineapple\" width=\"300\" height=\"300\">\n",
    "\n",
    "\n",
    "</body>\n",
    "</html>"
   ]
  }
 ],
 "metadata": {
  "language_info": {
   "name": "python"
  },
  "orig_nbformat": 4
 },
 "nbformat": 4,
 "nbformat_minor": 2
}
