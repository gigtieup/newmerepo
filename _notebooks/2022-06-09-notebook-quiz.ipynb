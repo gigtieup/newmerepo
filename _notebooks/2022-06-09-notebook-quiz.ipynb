{
 "cells": [
  {
   "cell_type": "markdown",
   "metadata": {},
   "source": []
  },
  {
   "cell_type": "markdown",
   "metadata": {},
   "source": [
    "# Notebook quiz\n",
    "> My notebook quiz\n",
    "\n",
    "- toc: true \n",
    "- badges: true\n",
    "- comments: true\n",
    "- categories: [jupyter]"
   ]
  },
  {
   "cell_type": "code",
   "execution_count": null,
   "metadata": {
    "vscode": {
     "languageId": "plaintext"
    }
   },
   "outputs": [],
   "source": [
    "\n",
    "\n",
    "class Question:\n",
    "     def __init__(self, prompt, answer):\n",
    "          self.prompt = prompt\n",
    "          self.answer = answer\n",
    "\n",
    "question_prompts = [\n",
    "     \"What is the name of the syntax that can pass variables in html? \\n\\n\",\n",
    "     \"What is it called for a command you give your computer? \\n\\n\",\n",
    "     \"Is it important to define your varibles?\\n\\n\",\n",
    "     \"If you do not definne your varibles what will happen when you try and run the code?\\n\\n\",\n",
    "]\n",
    "\n",
    "questions = [\n",
    "     Question(question_prompts[0], \"liquid\"),\n",
    "     Question(question_prompts[1], \"input\"),\n",
    "     Question(question_prompts[2], \"yes\"),\n",
    "     Question(question_prompts[3], \"syntax error\"),\n",
    "]\n",
    "\n",
    "def run_quiz(questions):\n",
    "     score = 0\n",
    "     for question in questions:\n",
    "          answer = input(question.prompt)\n",
    "          if answer == question.answer:\n",
    "               score += 1\n",
    "     print(\"you got\", score, \"out of\", len(questions))\n",
    "\n",
    "run_quiz(questions)"
   ]
  },
  {
   "cell_type": "markdown",
   "metadata": {},
   "source": []
  }
 ],
 "metadata": {
  "language_info": {
   "name": "python"
  },
  "orig_nbformat": 4
 },
 "nbformat": 4,
 "nbformat_minor": 2
}
